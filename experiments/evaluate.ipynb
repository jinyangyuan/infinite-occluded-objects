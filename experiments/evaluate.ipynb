{
 "cells": [
  {
   "cell_type": "code",
   "execution_count": null,
   "metadata": {},
   "outputs": [],
   "source": [
    "import h5py\n",
    "import numpy as np\n",
    "import os"
   ]
  },
  {
   "cell_type": "code",
   "execution_count": null,
   "metadata": {},
   "outputs": [],
   "source": [
    "def print_scores_sub(path_result, is_ordered, sep=' ' * 4):\n",
    "    with h5py.File(path_result, 'r') as f:\n",
    "        scores_mean = {key: np.mean(f['metric'][key]) for key in f['metric']}\n",
    "        scores_std = {key: np.std(f['metric'][key]) for key in f['metric']}\n",
    "    print('LL:{:7.1f} {:.1e}'.format(scores_mean['ll'], scores_std['ll']), end=sep)\n",
    "    print('AMI:{:6.3f} {:.1e}'.format(scores_mean['ami_obj'], scores_std['ami_obj']), end=sep)\n",
    "    print('L_MSE:{:9.2e} {:.1e}'.format(scores_mean['layer_mse'], scores_std['layer_mse']), end=sep)\n",
    "    print('OCA:{:6.3f} {:.1e}'.format(scores_mean['count'], scores_std['count']))\n",
    "    if is_ordered:\n",
    "        print('OOA:{:6.3f} {:.1e}'.format(scores_mean['order'], scores_std['order']))\n",
    "    return\n",
    "\n",
    "def print_scores(name_occlude, name_result):\n",
    "    for name_color in name_color_list:\n",
    "        is_ordered = False if name_occlude == 'sep' else name_color in ['rgb_1', 'rgb_3']\n",
    "        for name_object in name_object_list:\n",
    "            print('{}_{}'.format(name_color, name_object))\n",
    "            folder_result = os.path.join('{}_{}'.format(name_occlude, name_color), name_object)\n",
    "            path_result = os.path.join(folder_result, '{}.h5'.format(name_result))\n",
    "            print_scores_sub(path_result, is_ordered)\n",
    "    return\n",
    "\n",
    "name_color_list = ['gray', 'rgb_1', 'rgb_2', 'rgb_3', 'rgb_4']\n",
    "name_object_list = ['shapes', 'mnist']"
   ]
  },
  {
   "cell_type": "code",
   "execution_count": null,
   "metadata": {},
   "outputs": [],
   "source": [
    "# Evaluate on images containing 2 or 3 objects (without occlusion)\n",
    "print_scores('sep', 'test')"
   ]
  },
  {
   "cell_type": "code",
   "execution_count": null,
   "metadata": {},
   "outputs": [],
   "source": [
    "# Evaluate on images containing 2 or 3 objects (with occlusion)\n",
    "print_scores('occ', 'test')"
   ]
  },
  {
   "cell_type": "code",
   "execution_count": null,
   "metadata": {},
   "outputs": [],
   "source": [
    "# Evaluate on images containing 4 objects (without occlusion, K = 4)\n",
    "print_scores('sep', 'general_4')"
   ]
  },
  {
   "cell_type": "code",
   "execution_count": null,
   "metadata": {},
   "outputs": [],
   "source": [
    "# Evaluate on images containing 4 objects (without occlusion, K = 10)\n",
    "print_scores('sep', 'general_10')"
   ]
  },
  {
   "cell_type": "code",
   "execution_count": null,
   "metadata": {},
   "outputs": [],
   "source": [
    "# Evaluate on images containing 4 objects (with occlusion, K = 4)\n",
    "print_scores('occ', 'general_4')"
   ]
  },
  {
   "cell_type": "code",
   "execution_count": null,
   "metadata": {},
   "outputs": [],
   "source": [
    "# Evaluate on images containing 4 objects (with occlusion, K = 10)\n",
    "print_scores('occ', 'general_10')"
   ]
  }
 ],
 "metadata": {
  "kernelspec": {
   "display_name": "Python 3",
   "language": "python",
   "name": "python3"
  },
  "language_info": {
   "codemirror_mode": {
    "name": "ipython",
    "version": 3
   },
   "file_extension": ".py",
   "mimetype": "text/x-python",
   "name": "python",
   "nbconvert_exporter": "python",
   "pygments_lexer": "ipython3",
   "version": "3.7.3"
  }
 },
 "nbformat": 4,
 "nbformat_minor": 2
}
